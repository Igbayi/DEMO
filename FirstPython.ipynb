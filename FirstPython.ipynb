{
 "cells": [
  {
   "cell_type": "markdown",
   "id": "1927e2cd",
   "metadata": {},
   "source": [
    "# MY FIRST PROGRAM\n",
    "## PROJECT\n",
    "### BY\n",
    "#### KHADIJA\n",
    "##### DATA SCIENCE\n",
    "###### BOOTCAMP"
   ]
  },
  {
   "cell_type": "code",
   "execution_count": 1,
   "id": "107140c8",
   "metadata": {},
   "outputs": [
    {
     "name": "stdout",
     "output_type": "stream",
     "text": [
      "Hello\n"
     ]
    }
   ],
   "source": [
    "# MY first project on python\n",
    "print('Hello')"
   ]
  },
  {
   "cell_type": "code",
   "execution_count": 2,
   "id": "1b8873a9",
   "metadata": {},
   "outputs": [
    {
     "name": "stdout",
     "output_type": "stream",
     "text": [
      "50\n",
      "5.5\n"
     ]
    }
   ],
   "source": [
    "print(50)\n",
    "print(5.5)"
   ]
  },
  {
   "cell_type": "code",
   "execution_count": 3,
   "id": "c7ed483b",
   "metadata": {},
   "outputs": [
    {
     "name": "stdout",
     "output_type": "stream",
     "text": [
      "The age of Olorunfemi is 50\n"
     ]
    }
   ],
   "source": [
    "print('The age of Olorunfemi is', 50)"
   ]
  },
  {
   "cell_type": "code",
   "execution_count": 4,
   "id": "39832957",
   "metadata": {},
   "outputs": [
    {
     "name": "stdout",
     "output_type": "stream",
     "text": [
      "Hello World\n",
      "Hello World\n",
      "Hello World\n"
     ]
    }
   ],
   "source": [
    "#Print on new line\n",
    "\n",
    "print('Hello World\\nHello World\\nHello World')"
   ]
  },
  {
   "cell_type": "code",
   "execution_count": 5,
   "id": "d44b2648",
   "metadata": {},
   "outputs": [
    {
     "name": "stdout",
     "output_type": "stream",
     "text": [
      "HelloWorld\n"
     ]
    }
   ],
   "source": [
    "#Concatenate\n",
    "\n",
    "print('Hello' + 'World')"
   ]
  },
  {
   "cell_type": "code",
   "execution_count": 6,
   "id": "161404cb",
   "metadata": {},
   "outputs": [
    {
     "name": "stdout",
     "output_type": "stream",
     "text": [
      "Hello Gomycode\n"
     ]
    }
   ],
   "source": [
    "print('Hello' + ' '+ 'Gomycode')"
   ]
  },
  {
   "cell_type": "code",
   "execution_count": 7,
   "id": "41f0401b",
   "metadata": {},
   "outputs": [
    {
     "name": "stdout",
     "output_type": "stream",
     "text": [
      "I am 12 years old\n"
     ]
    }
   ],
   "source": [
    "print('I am', 12, 'years old')"
   ]
  },
  {
   "cell_type": "code",
   "execution_count": 8,
   "id": "b167255a",
   "metadata": {},
   "outputs": [
    {
     "name": "stdout",
     "output_type": "stream",
     "text": [
      "what is your nameKhadija\n"
     ]
    },
    {
     "data": {
      "text/plain": [
       "'Khadija'"
      ]
     },
     "execution_count": 8,
     "metadata": {},
     "output_type": "execute_result"
    }
   ],
   "source": [
    "input('what is your name')"
   ]
  },
  {
   "cell_type": "code",
   "execution_count": 9,
   "id": "e395b65e",
   "metadata": {},
   "outputs": [
    {
     "name": "stdout",
     "output_type": "stream",
     "text": [
      "what is your nameAdeola\n"
     ]
    },
    {
     "data": {
      "text/plain": [
       "'Adeola'"
      ]
     },
     "execution_count": 9,
     "metadata": {},
     "output_type": "execute_result"
    }
   ],
   "source": [
    "input('what is your name')"
   ]
  },
  {
   "cell_type": "code",
   "execution_count": 10,
   "id": "94192037",
   "metadata": {},
   "outputs": [
    {
     "name": "stdout",
     "output_type": "stream",
     "text": [
      "what is your name? Adeola\n",
      "You are welcome Adeola\n"
     ]
    }
   ],
   "source": [
    "print('You are welcome', input('what is your name? '))"
   ]
  },
  {
   "cell_type": "code",
   "execution_count": 11,
   "id": "9c1e4691",
   "metadata": {},
   "outputs": [
    {
     "name": "stdout",
     "output_type": "stream",
     "text": [
      "what is your name?\n",
      " Khadija\n",
      "You are welcome Khadija\n"
     ]
    }
   ],
   "source": [
    "print('You are welcome', input('what is your name?\\n '))"
   ]
  },
  {
   "cell_type": "code",
   "execution_count": 12,
   "id": "4e1c7ce8",
   "metadata": {},
   "outputs": [
    {
     "name": "stdout",
     "output_type": "stream",
     "text": [
      "How Old are you?\n",
      " 12\n"
     ]
    },
    {
     "data": {
      "text/plain": [
       "12"
      ]
     },
     "execution_count": 12,
     "metadata": {},
     "output_type": "execute_result"
    }
   ],
   "source": [
    "int(input('How Old are you?\\n '))"
   ]
  },
  {
   "cell_type": "code",
   "execution_count": 13,
   "id": "aca32a4c",
   "metadata": {},
   "outputs": [
    {
     "name": "stdout",
     "output_type": "stream",
     "text": [
      "How Old are you?\n",
      " 22\n",
      "22\n"
     ]
    }
   ],
   "source": [
    "print(int(input('How Old are you?\\n ')))"
   ]
  },
  {
   "cell_type": "code",
   "execution_count": 14,
   "id": "a4c93172",
   "metadata": {},
   "outputs": [
    {
     "name": "stdout",
     "output_type": "stream",
     "text": [
      "How Old are you?\n",
      " 32\n",
      "I am  32 years old\n"
     ]
    }
   ],
   "source": [
    "print('I am ', int(input('How Old are you?\\n ')), 'years old')"
   ]
  },
  {
   "cell_type": "code",
   "execution_count": 15,
   "id": "50651e46",
   "metadata": {},
   "outputs": [
    {
     "name": "stdout",
     "output_type": "stream",
     "text": [
      "first name Khadija\n",
      "last name Olanipekun\n",
      "How Old are you? 12\n",
      "You are welcome Khadija Olanipekun \n",
      "you are 12 years old\n"
     ]
    }
   ],
   "source": [
    "print('You are welcome', input('first name '), input('last name '),'\\nyou are', int(input('How Old are you? ')), 'years old')"
   ]
  },
  {
   "cell_type": "code",
   "execution_count": 16,
   "id": "a792aa1f",
   "metadata": {},
   "outputs": [],
   "source": [
    "# variable\n",
    "A=2\n",
    "B=5"
   ]
  },
  {
   "cell_type": "code",
   "execution_count": 17,
   "id": "06c084cf",
   "metadata": {},
   "outputs": [
    {
     "data": {
      "text/plain": [
       "2"
      ]
     },
     "execution_count": 17,
     "metadata": {},
     "output_type": "execute_result"
    }
   ],
   "source": [
    "A"
   ]
  },
  {
   "cell_type": "code",
   "execution_count": 18,
   "id": "f71ae83b",
   "metadata": {},
   "outputs": [
    {
     "data": {
      "text/plain": [
       "5"
      ]
     },
     "execution_count": 18,
     "metadata": {},
     "output_type": "execute_result"
    }
   ],
   "source": [
    "B"
   ]
  },
  {
   "cell_type": "code",
   "execution_count": 19,
   "id": "d75549d6",
   "metadata": {},
   "outputs": [],
   "source": [
    "A=10"
   ]
  },
  {
   "cell_type": "code",
   "execution_count": 20,
   "id": "fe82062d",
   "metadata": {},
   "outputs": [
    {
     "data": {
      "text/plain": [
       "10"
      ]
     },
     "execution_count": 20,
     "metadata": {},
     "output_type": "execute_result"
    }
   ],
   "source": [
    "A"
   ]
  },
  {
   "cell_type": "code",
   "execution_count": 21,
   "id": "674a57eb",
   "metadata": {},
   "outputs": [],
   "source": [
    "FirstName = 'Femi'\n",
    "LastName = 'Femlad'\n",
    "Age = 10\n",
    "Height = 5.5"
   ]
  },
  {
   "cell_type": "code",
   "execution_count": 22,
   "id": "374b727c",
   "metadata": {},
   "outputs": [
    {
     "name": "stdout",
     "output_type": "stream",
     "text": [
      "You are welcome Femi Femlad You are 10 years old and 5.5 m tall\n"
     ]
    }
   ],
   "source": [
    "print('You are welcome', FirstName,LastName, 'You are', Age, 'years old', 'and', Height, 'm tall')"
   ]
  },
  {
   "cell_type": "code",
   "execution_count": 23,
   "id": "b7050521",
   "metadata": {
    "scrolled": true
   },
   "outputs": [
    {
     "name": "stdout",
     "output_type": "stream",
     "text": [
      "What is your First name? \n",
      "Adeola\n",
      "What is your Last name? \n",
      "Olanipekun\n",
      "How old are you? \n",
      "12\n",
      "What is your Height? \n",
      "5.0\n",
      "You are welcome Adeola Olanipekun .\n",
      "You are 12 years old and 5.0 m tall.\n"
     ]
    }
   ],
   "source": [
    "First_Name = input('What is your First name? \\n')\n",
    "Last_Name = input('What is your Last name? \\n')\n",
    "Age = int(input('How old are you? \\n'))\n",
    "Height = float(input('What is your Height? \\n'))\n",
    "\n",
    "print('You are welcome', First_Name,Last_Name,'.''\\nYou are', Age, 'years old', 'and', Height, 'm tall.')"
   ]
  },
  {
   "cell_type": "code",
   "execution_count": 24,
   "id": "993d57b6",
   "metadata": {},
   "outputs": [],
   "source": [
    "#Type casting\n",
    "A = str(5)\n",
    "B = int(6)\n",
    "C = int(7.3)\n",
    "D = int(8.7)\n",
    "E = float(7)"
   ]
  },
  {
   "cell_type": "code",
   "execution_count": 25,
   "id": "b43b596e",
   "metadata": {},
   "outputs": [
    {
     "name": "stdout",
     "output_type": "stream",
     "text": [
      "5\n",
      "6\n",
      "7\n",
      "8\n",
      "7.0\n"
     ]
    }
   ],
   "source": [
    "print(A)\n",
    "print(B)\n",
    "print(C)\n",
    "print(D)\n",
    "print(E)"
   ]
  },
  {
   "cell_type": "code",
   "execution_count": 26,
   "id": "7efaac58",
   "metadata": {},
   "outputs": [
    {
     "data": {
      "text/plain": [
       "'555'"
      ]
     },
     "execution_count": 26,
     "metadata": {},
     "output_type": "execute_result"
    }
   ],
   "source": [
    "3*A ### Data type of A is a string"
   ]
  },
  {
   "cell_type": "code",
   "execution_count": 27,
   "id": "46723711",
   "metadata": {
    "scrolled": true
   },
   "outputs": [
    {
     "data": {
      "text/plain": [
       "'5A'"
      ]
     },
     "execution_count": 27,
     "metadata": {},
     "output_type": "execute_result"
    }
   ],
   "source": [
    "A+'A'"
   ]
  },
  {
   "cell_type": "code",
   "execution_count": 28,
   "id": "3bc2456a",
   "metadata": {},
   "outputs": [
    {
     "data": {
      "text/plain": [
       "'Femi Femi Femi '"
      ]
     },
     "execution_count": 28,
     "metadata": {},
     "output_type": "execute_result"
    }
   ],
   "source": [
    "'Femi ' * 3"
   ]
  },
  {
   "cell_type": "code",
   "execution_count": 29,
   "id": "46f083ac",
   "metadata": {},
   "outputs": [
    {
     "data": {
      "text/plain": [
       "str"
      ]
     },
     "execution_count": 29,
     "metadata": {},
     "output_type": "execute_result"
    }
   ],
   "source": [
    "type(A) #to check data type"
   ]
  },
  {
   "cell_type": "code",
   "execution_count": 30,
   "id": "69e571a5",
   "metadata": {},
   "outputs": [
    {
     "data": {
      "text/plain": [
       "int"
      ]
     },
     "execution_count": 30,
     "metadata": {},
     "output_type": "execute_result"
    }
   ],
   "source": [
    "type(B)"
   ]
  },
  {
   "cell_type": "code",
   "execution_count": 31,
   "id": "8d30bcd5",
   "metadata": {},
   "outputs": [],
   "source": [
    "Score1 = 30\n",
    "Score2 = 35\n",
    "Score3 = 50\n",
    "Score4 = 70"
   ]
  },
  {
   "cell_type": "code",
   "execution_count": 32,
   "id": "b73b33c8",
   "metadata": {},
   "outputs": [
    {
     "data": {
      "text/plain": [
       "185"
      ]
     },
     "execution_count": 32,
     "metadata": {},
     "output_type": "execute_result"
    }
   ],
   "source": [
    "Score1 + Score2 + Score3 + Score4"
   ]
  },
  {
   "cell_type": "code",
   "execution_count": 33,
   "id": "c9e86412",
   "metadata": {},
   "outputs": [
    {
     "data": {
      "text/plain": [
       "False"
      ]
     },
     "execution_count": 33,
     "metadata": {},
     "output_type": "execute_result"
    }
   ],
   "source": [
    "## '=' to assign variable\n",
    "## '==' Equal to\n",
    "\n",
    "5==6"
   ]
  },
  {
   "cell_type": "code",
   "execution_count": 34,
   "id": "1572af1c",
   "metadata": {},
   "outputs": [
    {
     "data": {
      "text/plain": [
       "True"
      ]
     },
     "execution_count": 34,
     "metadata": {},
     "output_type": "execute_result"
    }
   ],
   "source": [
    "5==5"
   ]
  },
  {
   "cell_type": "code",
   "execution_count": 35,
   "id": "15cdd3b7",
   "metadata": {},
   "outputs": [],
   "source": [
    "#Assigning multiple variaables to multiple value at ones to show result respectively\n",
    "W, X, Y, Z = 23, \"Femi\", 'Micheal', 'Yemisi'"
   ]
  },
  {
   "cell_type": "code",
   "execution_count": 36,
   "id": "29385d33",
   "metadata": {},
   "outputs": [
    {
     "name": "stdout",
     "output_type": "stream",
     "text": [
      "Femi\n",
      "Micheal\n",
      "Yemisi\n",
      "23\n"
     ]
    }
   ],
   "source": [
    "print(X)\n",
    "print(Y)\n",
    "print(Z)\n",
    "print(W)"
   ]
  },
  {
   "cell_type": "code",
   "execution_count": 37,
   "id": "bd6eb0d6",
   "metadata": {},
   "outputs": [],
   "source": [
    "#Assigning multiple variaables to multiple value at ones to show result respectively\n",
    "x=y=z =\"Femi\""
   ]
  },
  {
   "cell_type": "code",
   "execution_count": 38,
   "id": "ffdd9fee",
   "metadata": {},
   "outputs": [
    {
     "name": "stdout",
     "output_type": "stream",
     "text": [
      "Femi\n",
      "Femi\n",
      "Femi\n"
     ]
    }
   ],
   "source": [
    "print(x)\n",
    "print(y)\n",
    "print(z)"
   ]
  },
  {
   "cell_type": "code",
   "execution_count": 39,
   "id": "b40e1c7f",
   "metadata": {},
   "outputs": [],
   "source": [
    "x=5\n",
    "y=10\n",
    "z='John'"
   ]
  },
  {
   "cell_type": "code",
   "execution_count": 40,
   "id": "22ff402f",
   "metadata": {},
   "outputs": [
    {
     "name": "stdout",
     "output_type": "stream",
     "text": [
      "10 John\n"
     ]
    }
   ],
   "source": [
    "print(y,z)"
   ]
  },
  {
   "cell_type": "code",
   "execution_count": 41,
   "id": "a1fbf1b5",
   "metadata": {},
   "outputs": [],
   "source": [
    "#Data types\n",
    "## Numbers - integers (int), float (float)\n",
    "## Text - string (str)\n",
    "## Booleans - True/False\n",
    "## List\n",
    "## Set\n",
    "## Dictionary\n",
    "## Tuples"
   ]
  },
  {
   "cell_type": "code",
   "execution_count": 42,
   "id": "f5a5108b",
   "metadata": {},
   "outputs": [],
   "source": [
    "## Integer (int) - Whole numbers without decimal. e.g. 5 10 100 1000 1000000 120, etc\n",
    "## Float (float) - numbers with decimal, e.g 1.2 1.23 1.567, etc\n",
    "## Text - string (str) Text word e.g 'Femi' 'Orange'\n",
    "## Booleans - Results for logical test, to check if LHS=RHS"
   ]
  },
  {
   "cell_type": "code",
   "execution_count": 43,
   "id": "6c5460d4",
   "metadata": {},
   "outputs": [
    {
     "data": {
      "text/plain": [
       "True"
      ]
     },
     "execution_count": 43,
     "metadata": {},
     "output_type": "execute_result"
    }
   ],
   "source": [
    "5==5"
   ]
  },
  {
   "cell_type": "code",
   "execution_count": 44,
   "id": "faa92c8a",
   "metadata": {},
   "outputs": [
    {
     "data": {
      "text/plain": [
       "False"
      ]
     },
     "execution_count": 44,
     "metadata": {},
     "output_type": "execute_result"
    }
   ],
   "source": [
    "4>50"
   ]
  },
  {
   "cell_type": "code",
   "execution_count": 45,
   "id": "9289bae4",
   "metadata": {},
   "outputs": [
    {
     "name": "stdout",
     "output_type": "stream",
     "text": [
      "36\n",
      "4.0\n",
      "4\n",
      "2.4\n",
      "2\n",
      "15\n",
      "9\n",
      "8\n",
      "64\n",
      "1\n",
      "4\n"
     ]
    }
   ],
   "source": [
    "##Basic operations\n",
    "## multiplication, Division, Addition, Subtraction, Exponential, Modulo\n",
    "\n",
    "print(12*3)\n",
    "print(12/3)\n",
    "print(int(12/3))\n",
    "print(12/5)\n",
    "print(int(12/5))\n",
    "print(12+3)\n",
    "print(12-3)\n",
    "print(2**3)\n",
    "print(4**3)\n",
    "print(9%2)\n",
    "print(9//2)"
   ]
  },
  {
   "cell_type": "code",
   "execution_count": 46,
   "id": "eab06593",
   "metadata": {},
   "outputs": [
    {
     "data": {
      "text/plain": [
       "5"
      ]
     },
     "execution_count": 46,
     "metadata": {},
     "output_type": "execute_result"
    }
   ],
   "source": [
    "x=5\n",
    "x"
   ]
  },
  {
   "cell_type": "code",
   "execution_count": 47,
   "id": "6d0c7fac",
   "metadata": {},
   "outputs": [
    {
     "data": {
      "text/plain": [
       "2"
      ]
     },
     "execution_count": 47,
     "metadata": {},
     "output_type": "execute_result"
    }
   ],
   "source": [
    "x+-3"
   ]
  },
  {
   "cell_type": "code",
   "execution_count": 48,
   "id": "2e642fdb",
   "metadata": {},
   "outputs": [
    {
     "data": {
      "text/plain": [
       "8"
      ]
     },
     "execution_count": 48,
     "metadata": {},
     "output_type": "execute_result"
    }
   ],
   "source": [
    "x+=3\n",
    "x"
   ]
  },
  {
   "cell_type": "code",
   "execution_count": 49,
   "id": "42120a66",
   "metadata": {},
   "outputs": [
    {
     "name": "stdout",
     "output_type": "stream",
     "text": [
      "True\n",
      "True\n",
      "True\n",
      "True\n",
      "True\n"
     ]
    }
   ],
   "source": [
    "## Comparison operator\n",
    "## Equal to                    ==\n",
    "## Not equal to                !=\n",
    "## Greater than                >\n",
    "## Greater than or Equal to    >=\n",
    "## Less than                   <\n",
    "## Less than or Equal to       <=\n",
    "\n",
    "print(5==5)\n",
    "print ('male' == 'male')\n",
    "print (6!=70)\n",
    "print (50>40)\n",
    "print (12<20)"
   ]
  },
  {
   "cell_type": "code",
   "execution_count": 50,
   "id": "87a6082b",
   "metadata": {},
   "outputs": [
    {
     "name": "stdout",
     "output_type": "stream",
     "text": [
      "True\n",
      "True\n",
      "True\n",
      "True\n",
      "False\n"
     ]
    }
   ],
   "source": [
    "## Comparison operator\n",
    "## Equal to                    ==\n",
    "## Not equal to                !=\n",
    "## Greater than                >\n",
    "## Greater than or Equal to    >=\n",
    "## Less than                   <\n",
    "## Less than or Equal to       <=\n",
    "\n",
    "print(5==5)\n",
    "print ('male' == 'male')\n",
    "print (x!=7)\n",
    "print (50>40)\n",
    "print (16<x)"
   ]
  },
  {
   "cell_type": "code",
   "execution_count": 51,
   "id": "256f2312",
   "metadata": {},
   "outputs": [
    {
     "name": "stdout",
     "output_type": "stream",
     "text": [
      "Test score: 12\n",
      "Exam score: 32\n",
      "practical score: 34\n",
      "Your percentage score is 78 %\n"
     ]
    }
   ],
   "source": [
    "x = int(input('Test score: '))\n",
    "y = int(input('Exam score: '))\n",
    "z = int(input('practical score: '))\n",
    "\n",
    "Total = (x+y+z)\n",
    "\n",
    "print ('Your percentage score is',Total,'%')\n"
   ]
  },
  {
   "cell_type": "code",
   "execution_count": 52,
   "id": "588a8ef8",
   "metadata": {},
   "outputs": [
    {
     "name": "stdout",
     "output_type": "stream",
     "text": [
      "Test score: 22\n",
      "Exam score: 34\n",
      "practical score: 12\n",
      "Your percentage score is 68 %\n"
     ]
    }
   ],
   "source": [
    "x = int(input('Test score: '))\n",
    "y = int(input('Exam score: '))\n",
    "z = int(input('practical score: '))\n",
    "\n",
    "Total = (x+y+z)\n",
    "\n",
    "print ('Your percentage score is',Total,'%')\n"
   ]
  },
  {
   "cell_type": "code",
   "execution_count": 54,
   "id": "358984e3",
   "metadata": {},
   "outputs": [
    {
     "name": "stdout",
     "output_type": "stream",
     "text": [
      "Customer is not a member\n"
     ]
    }
   ],
   "source": [
    "## 23rd July,2024\n",
    "is_member = False\n",
    "if not is_member:\n",
    "    print('Customer is not a member')\n",
    "else:\n",
    "    print('Customer is a member')"
   ]
  },
  {
   "cell_type": "code",
   "execution_count": 57,
   "id": "38dcaaaa",
   "metadata": {},
   "outputs": [
    {
     "name": "stdout",
     "output_type": "stream",
     "text": [
      "number is even\n"
     ]
    }
   ],
   "source": [
    "number = 10\n",
    "if number % 2 == 0:\n",
    "    print('number is even')\n",
    "else:\n",
    "    print('number is odd')"
   ]
  },
  {
   "cell_type": "code",
   "execution_count": 58,
   "id": "e3327e87",
   "metadata": {},
   "outputs": [
    {
     "name": "stdout",
     "output_type": "stream",
     "text": [
      "Input number value14\n",
      "number is even\n"
     ]
    }
   ],
   "source": [
    "number = int(input('Input number value'))\n",
    "if number % 2 == 0:\n",
    "    print('number is even')\n",
    "else:\n",
    "    print('number is odd')"
   ]
  },
  {
   "cell_type": "code",
   "execution_count": 61,
   "id": "8c767724",
   "metadata": {},
   "outputs": [
    {
     "name": "stdout",
     "output_type": "stream",
     "text": [
      "Input number value: 14\n",
      "True\n"
     ]
    }
   ],
   "source": [
    "number = int(input('Input number value: '))\n",
    "if number % 2 == 0 and number > 10:\n",
    "    print('True')\n",
    "else:\n",
    "    print('False')"
   ]
  },
  {
   "cell_type": "code",
   "execution_count": 66,
   "id": "c0831e64",
   "metadata": {},
   "outputs": [
    {
     "name": "stdout",
     "output_type": "stream",
     "text": [
      "Input number value: 16\n",
      "True\n"
     ]
    }
   ],
   "source": [
    "number = int(input('Input number value: '))\n",
    "if number % 2 == 0 or number > 10:\n",
    "    print('True')\n",
    "else:\n",
    "    print('False')"
   ]
  },
  {
   "cell_type": "code",
   "execution_count": 67,
   "id": "d120ef1f",
   "metadata": {},
   "outputs": [
    {
     "name": "stdout",
     "output_type": "stream",
     "text": [
      "x is True\n"
     ]
    }
   ],
   "source": [
    "x = (2>5)==(3==6)\n",
    "if x:\n",
    "    print('x is True')\n",
    "else:\n",
    "    print('x is not True')"
   ]
  },
  {
   "cell_type": "code",
   "execution_count": 68,
   "id": "ec31de2f",
   "metadata": {},
   "outputs": [
    {
     "name": "stdout",
     "output_type": "stream",
     "text": [
      "9\n",
      "13\n",
      "2\n"
     ]
    }
   ],
   "source": [
    "l = [9,13,2]\n",
    "for i in l:\n",
    "    print(i)"
   ]
  },
  {
   "cell_type": "code",
   "execution_count": null,
   "id": "7bbf74e0",
   "metadata": {},
   "outputs": [],
   "source": []
  }
 ],
 "metadata": {
  "kernelspec": {
   "display_name": "Python 3 (ipykernel)",
   "language": "python",
   "name": "python3"
  },
  "language_info": {
   "codemirror_mode": {
    "name": "ipython",
    "version": 3
   },
   "file_extension": ".py",
   "mimetype": "text/x-python",
   "name": "python",
   "nbconvert_exporter": "python",
   "pygments_lexer": "ipython3",
   "version": "3.9.12"
  }
 },
 "nbformat": 4,
 "nbformat_minor": 5
}
